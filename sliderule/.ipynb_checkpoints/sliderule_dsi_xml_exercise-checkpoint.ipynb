{
 "cells": [
  {
   "cell_type": "markdown",
   "metadata": {},
   "source": [
    "# XML example and exercise\n",
    "****\n",
    "+ study examples of accessing nodes in XML tree structure  \n",
    "+ work on exercise to be completed and submitted\n",
    "****\n",
    "+ reference: https://docs.python.org/2.7/library/xml.etree.elementtree.html\n",
    "+ data source: http://www.dbis.informatik.uni-goettingen.de/Mondial\n",
    "****"
   ]
  },
  {
   "cell_type": "code",
   "execution_count": 1,
   "metadata": {
    "collapsed": true
   },
   "outputs": [],
   "source": [
    "from xml.etree import ElementTree as ET"
   ]
  },
  {
   "cell_type": "markdown",
   "metadata": {},
   "source": [
    "## XML example\n",
    "\n",
    "+ for details about tree traversal and iterators, see https://docs.python.org/2.7/library/xml.etree.elementtree.html"
   ]
  },
  {
   "cell_type": "code",
   "execution_count": 2,
   "metadata": {
    "collapsed": true
   },
   "outputs": [],
   "source": [
    "document_tree = ET.parse( './data/mondial_database_less.xml' )"
   ]
  },
  {
   "cell_type": "code",
   "execution_count": 3,
   "metadata": {
    "collapsed": false
   },
   "outputs": [
    {
     "name": "stdout",
     "output_type": "stream",
     "text": [
      "Albania\n",
      "Greece\n",
      "Macedonia\n",
      "Serbia\n",
      "Montenegro\n",
      "Kosovo\n",
      "Andorra\n"
     ]
    }
   ],
   "source": [
    "# print names of all countries\n",
    "for child in document_tree.getroot():\n",
    "    print child.find('name').text"
   ]
  },
  {
   "cell_type": "code",
   "execution_count": 4,
   "metadata": {
    "collapsed": false
   },
   "outputs": [
    {
     "name": "stdout",
     "output_type": "stream",
     "text": [
      "* Albania: Tirana, Shkodër, Durrës, Vlorë, Elbasan, Korçë\n",
      "* Greece: Komotini, Kavala, Athina, Peiraias, Peristeri, Acharnes, Patra, Kozani, Kerkyra, Ioannina, Thessaloniki, Iraklio, Chania, Ermoupoli, Rhodes, Tripoli, Lamia, Chalkida, Larissa, Volos, Mytilini, Karyes\n",
      "* Macedonia: Skopje, Kumanovo\n",
      "* Serbia: Beograd, Novi Sad, Niš\n",
      "* Montenegro: Podgorica\n",
      "* Kosovo: Prishtine\n",
      "* Andorra: Andorra la Vella\n"
     ]
    }
   ],
   "source": [
    "# print names of all countries and their cities\n",
    "for element in document_tree.iterfind('country'):\n",
    "    print '* ' + element.find('name').text + ':',\n",
    "    capitals_string = ''\n",
    "    for subelement in element.getiterator('city'):\n",
    "        capitals_string += subelement.find('name').text + ', '\n",
    "    print capitals_string[:-2]"
   ]
  },
  {
   "cell_type": "markdown",
   "metadata": {},
   "source": [
    "****\n",
    "## XML exercise\n",
    "\n",
    "Using data in 'data/mondial_database.xml', the examples above, and refering to https://docs.python.org/2.7/library/xml.etree.elementtree.html, find\n",
    "\n",
    "1. 10 countries with the lowest infant mortality rates\n",
    "2. 10 cities with the largest population\n",
    "3. 10 ethnic groups with the largest overall populations (sum of best/latest estimates over all countries)\n",
    "4. name and country of a) longest river, b) largest lake and c) airport at highest elevation"
   ]
  },
  {
   "cell_type": "code",
   "execution_count": 17,
   "metadata": {
    "collapsed": true
   },
   "outputs": [],
   "source": [
    "document = ET.parse( './data/mondial_database.xml' )"
   ]
  },
  {
   "cell_type": "code",
   "execution_count": 13,
   "metadata": {
    "collapsed": false
   },
   "outputs": [
    {
     "data": {
      "text/html": [
       "<div>\n",
       "<table border=\"1\" class=\"dataframe\">\n",
       "  <thead>\n",
       "    <tr style=\"text-align: right;\">\n",
       "      <th></th>\n",
       "      <th>infant_mortality</th>\n",
       "      <th>name</th>\n",
       "    </tr>\n",
       "  </thead>\n",
       "  <tbody>\n",
       "    <tr>\n",
       "      <th>38</th>\n",
       "      <td>1.81</td>\n",
       "      <td>Monaco</td>\n",
       "    </tr>\n",
       "    <tr>\n",
       "      <th>98</th>\n",
       "      <td>2.13</td>\n",
       "      <td>Japan</td>\n",
       "    </tr>\n",
       "    <tr>\n",
       "      <th>117</th>\n",
       "      <td>2.48</td>\n",
       "      <td>Bermuda</td>\n",
       "    </tr>\n",
       "    <tr>\n",
       "      <th>36</th>\n",
       "      <td>2.48</td>\n",
       "      <td>Norway</td>\n",
       "    </tr>\n",
       "    <tr>\n",
       "      <th>106</th>\n",
       "      <td>2.53</td>\n",
       "      <td>Singapore</td>\n",
       "    </tr>\n",
       "    <tr>\n",
       "      <th>37</th>\n",
       "      <td>2.60</td>\n",
       "      <td>Sweden</td>\n",
       "    </tr>\n",
       "    <tr>\n",
       "      <th>10</th>\n",
       "      <td>2.63</td>\n",
       "      <td>Czech Republic</td>\n",
       "    </tr>\n",
       "    <tr>\n",
       "      <th>78</th>\n",
       "      <td>2.73</td>\n",
       "      <td>Hong Kong</td>\n",
       "    </tr>\n",
       "    <tr>\n",
       "      <th>79</th>\n",
       "      <td>3.13</td>\n",
       "      <td>Macao</td>\n",
       "    </tr>\n",
       "    <tr>\n",
       "      <th>44</th>\n",
       "      <td>3.15</td>\n",
       "      <td>Iceland</td>\n",
       "    </tr>\n",
       "  </tbody>\n",
       "</table>\n",
       "</div>"
      ],
      "text/plain": [
       "     infant_mortality            name\n",
       "38               1.81          Monaco\n",
       "98               2.13           Japan\n",
       "117              2.48         Bermuda\n",
       "36               2.48          Norway\n",
       "106              2.53       Singapore\n",
       "37               2.60          Sweden\n",
       "10               2.63  Czech Republic\n",
       "78               2.73       Hong Kong\n",
       "79               3.13           Macao\n",
       "44               3.15         Iceland"
      ]
     },
     "execution_count": 13,
     "metadata": {},
     "output_type": "execute_result"
    }
   ],
   "source": [
    "import pandas as pd\n",
    "\n",
    "#1. 10 countries with lowest infant mortality rates\n",
    "\n",
    "def extract_name(country):\n",
    "    \"\"\"\n",
    "    extracts the name (str) of a country\n",
    "    \"\"\"\n",
    "    return country.find('name').text\n",
    "\n",
    "def extract_infant_mortality(country):\n",
    "    \"\"\"\n",
    "    extracts the infant mortality rate of a country (float).\n",
    "    If it isn't specified, then return (None).\n",
    "    \"\"\"\n",
    "    inf_mortality = country.find('infant_mortality')\n",
    "    if inf_mortality is not None:\n",
    "      return float(country.find('infant_mortality').text)\n",
    "    else:\n",
    "      return None\n",
    "\n",
    "# for each country generate a dictionary containing the name and infant mortality rate\n",
    "data_pts = ({\"name\": extract_name(country), \"infant_mortality\": extract_infant_mortality(country)} \\\n",
    "             for country in document.iterfind('country'))\n",
    "\n",
    "# turn generated data into a data frame\n",
    "df = pd.DataFrame(data_pts)\n",
    "\n",
    "# remove invalid entries in the dataframe (these are countries without an infant mortlaity rate)\n",
    "df = df.dropna()\n",
    "\n",
    "# sort data frame by infant mortality rate and display 10 lowest\n",
    "df.sort_values(by='infant_mortality', ascending=True).head(10)"
   ]
  },
  {
   "cell_type": "code",
   "execution_count": 35,
   "metadata": {
    "collapsed": false
   },
   "outputs": [
    {
     "data": {
      "text/html": [
       "<div>\n",
       "<table border=\"1\" class=\"dataframe\">\n",
       "  <thead>\n",
       "    <tr style=\"text-align: right;\">\n",
       "      <th></th>\n",
       "      <th>city</th>\n",
       "      <th>country</th>\n",
       "      <th>population</th>\n",
       "      <th>year</th>\n",
       "    </tr>\n",
       "  </thead>\n",
       "  <tbody>\n",
       "    <tr>\n",
       "      <th>1067</th>\n",
       "      <td>Shenzhen</td>\n",
       "      <td>CN</td>\n",
       "      <td>10358381</td>\n",
       "      <td>2010</td>\n",
       "    </tr>\n",
       "    <tr>\n",
       "      <th>1064</th>\n",
       "      <td>Guangzhou</td>\n",
       "      <td>CN</td>\n",
       "      <td>11071424</td>\n",
       "      <td>2010</td>\n",
       "    </tr>\n",
       "    <tr>\n",
       "      <th>1342</th>\n",
       "      <td>Tianjin</td>\n",
       "      <td>CN</td>\n",
       "      <td>11090314</td>\n",
       "      <td>2010</td>\n",
       "    </tr>\n",
       "    <tr>\n",
       "      <th>2810</th>\n",
       "      <td>São Paulo</td>\n",
       "      <td>BR</td>\n",
       "      <td>11152344</td>\n",
       "      <td>2010</td>\n",
       "    </tr>\n",
       "    <tr>\n",
       "      <th>1340</th>\n",
       "      <td>Beijing</td>\n",
       "      <td>CN</td>\n",
       "      <td>11716620</td>\n",
       "      <td>2010</td>\n",
       "    </tr>\n",
       "    <tr>\n",
       "      <th>479</th>\n",
       "      <td>Moskva</td>\n",
       "      <td>R</td>\n",
       "      <td>11979529</td>\n",
       "      <td>2013</td>\n",
       "    </tr>\n",
       "    <tr>\n",
       "      <th>1527</th>\n",
       "      <td>Mumbai</td>\n",
       "      <td>IND</td>\n",
       "      <td>12442373</td>\n",
       "      <td>2011</td>\n",
       "    </tr>\n",
       "    <tr>\n",
       "      <th>1582</th>\n",
       "      <td>Delhi</td>\n",
       "      <td>IND</td>\n",
       "      <td>12877470</td>\n",
       "      <td>2001</td>\n",
       "    </tr>\n",
       "    <tr>\n",
       "      <th>771</th>\n",
       "      <td>Istanbul</td>\n",
       "      <td>TR</td>\n",
       "      <td>13710512</td>\n",
       "      <td>2012</td>\n",
       "    </tr>\n",
       "    <tr>\n",
       "      <th>1341</th>\n",
       "      <td>Shanghai</td>\n",
       "      <td>CN</td>\n",
       "      <td>22315474</td>\n",
       "      <td>2010</td>\n",
       "    </tr>\n",
       "  </tbody>\n",
       "</table>\n",
       "</div>"
      ],
      "text/plain": [
       "           city country  population  year\n",
       "1067   Shenzhen      CN    10358381  2010\n",
       "1064  Guangzhou      CN    11071424  2010\n",
       "1342    Tianjin      CN    11090314  2010\n",
       "2810  São Paulo      BR    11152344  2010\n",
       "1340    Beijing      CN    11716620  2010\n",
       "479      Moskva       R    11979529  2013\n",
       "1527     Mumbai     IND    12442373  2011\n",
       "1582      Delhi     IND    12877470  2001\n",
       "771    Istanbul      TR    13710512  2012\n",
       "1341   Shanghai      CN    22315474  2010"
      ]
     },
     "execution_count": 35,
     "metadata": {},
     "output_type": "execute_result"
    }
   ],
   "source": [
    "#2. 10 cities with the largest population\n",
    "# NOTE: to solve this, we assume that we only want to look at the LATEST population recording for each city.\n",
    "#\n",
    "df = pd.DataFrame()\n",
    "\n",
    "def extract_latest_population(elm):\n",
    "    max_pop = None\n",
    "    max_year = None\n",
    "    for population in elm.findall('population'):\n",
    "        year = int(population.attrib['year'])\n",
    "        pop = int(population.text)\n",
    "        if pop > max_pop:\n",
    "          max_pop = pop\n",
    "          max_year = year\n",
    "    return max_pop, max_year\n",
    "\n",
    "for city in document.iterfind('.//city'):\n",
    "    country_name = city.attrib['country']\n",
    "    city_name = city.find('name').text\n",
    "    pop, year = extract_latest_population(city)\n",
    "    df = df.append({\"city\": city_name,\n",
    "                    \"country\": country_name,\n",
    "                    \"year\": year,\n",
    "                    \"population\": pop}, ignore_index=True)\n",
    "\n",
    "df = df.dropna()\n",
    "df.sort_values(by='population').tail(10)"
   ]
  },
  {
   "cell_type": "code",
   "execution_count": 44,
   "metadata": {
    "collapsed": false
   },
   "outputs": [
    {
     "data": {
      "text/html": [
       "<div>\n",
       "<table border=\"1\" class=\"dataframe\">\n",
       "  <thead>\n",
       "    <tr style=\"text-align: right;\">\n",
       "      <th></th>\n",
       "      <th>ethnicity</th>\n",
       "      <th>ethnicity_population</th>\n",
       "    </tr>\n",
       "  </thead>\n",
       "  <tbody>\n",
       "    <tr>\n",
       "      <th>270</th>\n",
       "      <td>Malay</td>\n",
       "      <td>1.219936e+08</td>\n",
       "    </tr>\n",
       "    <tr>\n",
       "      <th>271</th>\n",
       "      <td>Japanese</td>\n",
       "      <td>1.272890e+08</td>\n",
       "    </tr>\n",
       "    <tr>\n",
       "      <th>272</th>\n",
       "      <td>Russian</td>\n",
       "      <td>1.368666e+08</td>\n",
       "    </tr>\n",
       "    <tr>\n",
       "      <th>273</th>\n",
       "      <td>Bengali</td>\n",
       "      <td>1.467769e+08</td>\n",
       "    </tr>\n",
       "    <tr>\n",
       "      <th>274</th>\n",
       "      <td>Mestizo</td>\n",
       "      <td>1.578553e+08</td>\n",
       "    </tr>\n",
       "    <tr>\n",
       "      <th>275</th>\n",
       "      <td>Dravidian</td>\n",
       "      <td>3.027137e+08</td>\n",
       "    </tr>\n",
       "    <tr>\n",
       "      <th>276</th>\n",
       "      <td>African</td>\n",
       "      <td>3.183597e+08</td>\n",
       "    </tr>\n",
       "    <tr>\n",
       "      <th>277</th>\n",
       "      <td>European</td>\n",
       "      <td>4.949395e+08</td>\n",
       "    </tr>\n",
       "    <tr>\n",
       "      <th>278</th>\n",
       "      <td>Indo-Aryan</td>\n",
       "      <td>8.718156e+08</td>\n",
       "    </tr>\n",
       "    <tr>\n",
       "      <th>279</th>\n",
       "      <td>Han Chinese</td>\n",
       "      <td>1.245059e+09</td>\n",
       "    </tr>\n",
       "  </tbody>\n",
       "</table>\n",
       "</div>"
      ],
      "text/plain": [
       "       ethnicity  ethnicity_population\n",
       "270        Malay          1.219936e+08\n",
       "271     Japanese          1.272890e+08\n",
       "272      Russian          1.368666e+08\n",
       "273      Bengali          1.467769e+08\n",
       "274      Mestizo          1.578553e+08\n",
       "275    Dravidian          3.027137e+08\n",
       "276      African          3.183597e+08\n",
       "277     European          4.949395e+08\n",
       "278   Indo-Aryan          8.718156e+08\n",
       "279  Han Chinese          1.245059e+09"
      ]
     },
     "execution_count": 44,
     "metadata": {},
     "output_type": "execute_result"
    }
   ],
   "source": [
    "# 3. 10 ethnic groups with the largest overall populations (sum of best/latest estimates over all countries)\n",
    "\n",
    "df = pd.DataFrame()\n",
    "for country in document.iterfind('country'):\n",
    "    country_name = country.find('name').text\n",
    "    # find latest population info\n",
    "    pop, year = extract_latest_population(country)\n",
    "    # find all ethnicgroups info\n",
    "    for ethnic_group in country.iterfind('ethnicgroup'):\n",
    "        percentage = float(ethnic_group.attrib['percentage']) / 100\n",
    "        group_name = ethnic_group.text\n",
    "        df = df.append({\"country\": country_name,\n",
    "                        \"population\": pop,\n",
    "                        \"year\": year,\n",
    "                        \"percentage\": percentage,\n",
    "                        \"ethnicity\": group_name}, ignore_index=True)\n",
    "df = df.dropna()\n",
    "df['ethnicity_population'] = df.population * df.percentage\n",
    "df.groupby('ethnicity').ethnicity_population.sum().sort_values().reset_index().tail(10)"
   ]
  },
  {
   "cell_type": "code",
   "execution_count": 69,
   "metadata": {
    "collapsed": false
   },
   "outputs": [
    {
     "name": "stdout",
     "output_type": "stream",
     "text": [
      " longest river\n"
     ]
    },
    {
     "data": {
      "text/html": [
       "<div>\n",
       "<table border=\"1\" class=\"dataframe\">\n",
       "  <thead>\n",
       "    <tr style=\"text-align: right;\">\n",
       "      <th></th>\n",
       "      <th>country</th>\n",
       "      <th>length</th>\n",
       "      <th>name</th>\n",
       "    </tr>\n",
       "  </thead>\n",
       "  <tbody>\n",
       "    <tr>\n",
       "      <th>174</th>\n",
       "      <td>CO BR PE</td>\n",
       "      <td>6448</td>\n",
       "      <td>Amazonas</td>\n",
       "    </tr>\n",
       "  </tbody>\n",
       "</table>\n",
       "</div>"
      ],
      "text/plain": [
       "      country  length      name\n",
       "174  CO BR PE    6448  Amazonas"
      ]
     },
     "execution_count": 69,
     "metadata": {},
     "output_type": "execute_result"
    }
   ],
   "source": [
    "# 4. name and country of a) longest river, b) largest lake and c) airport at highest elevation\n",
    "\n",
    "# NOTE: we will notice that river, lake, and airport elements all have similar structures.\n",
    "# In particular, each of the elements will contain the country information, while their\n",
    "# children elements contain the remaining (name, [length, area, elevantion]) info.\n",
    "\n",
    "def get_resource_data_points(resource_type, target_feat):\n",
    "  \"\"\"\n",
    "  finds all elements specified by $resource_type. For each of\n",
    "  these elements, return its country, its name, and the value\n",
    "  of a target feature as specified by the user (via $target_feat).\n",
    "  \"\"\"\n",
    "  for resource in document.iterfind(\".//\" + resource_type):\n",
    "    country = resource.attrib['country']\n",
    "    name = resource.find('name').text\n",
    "    feat_elm = resource.find(target_feat)\n",
    "    feat = float(feat_elm.text) if feat_elm != None and feat_elm.text != None else None\n",
    "    yield {\"country\": country, \n",
    "           \"name\": name, \n",
    "           target_feat: feat}\n",
    "\n",
    "river_df = pd.DataFrame(pt for pt in get_resource_data_points(\"river\", \"length\"))\n",
    "lake_df = pd.DataFrame(pt for pt in get_resource_data_points(\"lake\", \"area\"))\n",
    "airport_df = pd.DataFrame(pt for pt in get_resource_data_points(\"airport\", \"elevation\"))\n",
    "\n",
    "print \"longest river\"\n",
    "river_df[river_df.length == river_df.length.max()]"
   ]
  },
  {
   "cell_type": "code",
   "execution_count": 64,
   "metadata": {
    "collapsed": false
   },
   "outputs": [
    {
     "name": "stdout",
     "output_type": "stream",
     "text": [
      "largest lake\n"
     ]
    },
    {
     "data": {
      "text/html": [
       "<div>\n",
       "<table border=\"1\" class=\"dataframe\">\n",
       "  <thead>\n",
       "    <tr style=\"text-align: right;\">\n",
       "      <th></th>\n",
       "      <th>area</th>\n",
       "      <th>country</th>\n",
       "      <th>name</th>\n",
       "    </tr>\n",
       "  </thead>\n",
       "  <tbody>\n",
       "    <tr>\n",
       "      <th>54</th>\n",
       "      <td>386400</td>\n",
       "      <td>R AZ KAZ IR TM</td>\n",
       "      <td>Caspian Sea</td>\n",
       "    </tr>\n",
       "  </tbody>\n",
       "</table>\n",
       "</div>"
      ],
      "text/plain": [
       "      area         country         name\n",
       "54  386400  R AZ KAZ IR TM  Caspian Sea"
      ]
     },
     "execution_count": 64,
     "metadata": {},
     "output_type": "execute_result"
    }
   ],
   "source": [
    "print \"largest lake\"\n",
    "lake_df[lake_df.area == lake_df.area.max()]"
   ]
  },
  {
   "cell_type": "code",
   "execution_count": 70,
   "metadata": {
    "collapsed": false
   },
   "outputs": [
    {
     "name": "stdout",
     "output_type": "stream",
     "text": [
      "highest airport\n"
     ]
    },
    {
     "data": {
      "text/html": [
       "<div>\n",
       "<table border=\"1\" class=\"dataframe\">\n",
       "  <thead>\n",
       "    <tr style=\"text-align: right;\">\n",
       "      <th></th>\n",
       "      <th>country</th>\n",
       "      <th>elevation</th>\n",
       "      <th>name</th>\n",
       "    </tr>\n",
       "  </thead>\n",
       "  <tbody>\n",
       "    <tr>\n",
       "      <th>80</th>\n",
       "      <td>BOL</td>\n",
       "      <td>4063</td>\n",
       "      <td>El Alto Intl</td>\n",
       "    </tr>\n",
       "  </tbody>\n",
       "</table>\n",
       "</div>"
      ],
      "text/plain": [
       "   country  elevation          name\n",
       "80     BOL       4063  El Alto Intl"
      ]
     },
     "execution_count": 70,
     "metadata": {},
     "output_type": "execute_result"
    }
   ],
   "source": [
    "print \"highest airport\"\n",
    "airport_df[airport_df.elevation == airport_df.elevation.max()]"
   ]
  },
  {
   "cell_type": "code",
   "execution_count": null,
   "metadata": {
    "collapsed": true
   },
   "outputs": [],
   "source": []
  }
 ],
 "metadata": {
  "kernelspec": {
   "display_name": "Python 2",
   "language": "python",
   "name": "python2"
  },
  "language_info": {
   "codemirror_mode": {
    "name": "ipython",
    "version": 2
   },
   "file_extension": ".py",
   "mimetype": "text/x-python",
   "name": "python",
   "nbconvert_exporter": "python",
   "pygments_lexer": "ipython2",
   "version": "2.7.8"
  }
 },
 "nbformat": 4,
 "nbformat_minor": 0
}
