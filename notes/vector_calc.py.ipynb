{
 "metadata": {
  "name": "",
  "signature": "sha256:380f9838d1c706f7d4049f5911d7fd2b16eac79faa7b053d14240298315d8252"
 },
 "nbformat": 3,
 "nbformat_minor": 0,
 "worksheets": [
  {
   "cells": [
    {
     "cell_type": "markdown",
     "metadata": {},
     "source": [
      "For all problems assume $x \\in \\unicode{x211D}^D$\n",
      "\n",
      "##(1) Let $f:R^D \\rightarrow R$ be a small smooth (infinitely differentiable everywhere) function."
     ]
    },
    {
     "cell_type": "markdown",
     "metadata": {},
     "source": [
      "**(i) what is $\\nabla{f}$ ? what is df/d$\\vec{x}$?**\n",
      "\n",
      "$\\nabla{f} = \\dfrac{\\partial{f}}{\\partial{x_{1}}} e_{1} + ... + \\dfrac{\\partial{f}}{\\partial{x_{D}}} e_{D} $ \n",
      "where $e_{i}$ is the orthogonal unit vector. \n",
      "\n",
      "Furthermore, df/d$\\vec{x}$ is generally used to denote the Jacobian of f, but since f produces a real number, df/d$\\vec{x}$ is equivalent to $\\nabla{f}$\n",
      "\n",
      "\n",
      "**(ii) what is Grad(f)?**\n",
      "\n",
      "Grad(f) $\\equiv \\nabla{f}$ \n",
      "\n",
      "**(iii) what is Jacobian of f?**\n",
      "\n",
      "Since the output of f is a real number, the Jacobian of f is equivalent to its gradient (as a row vector). In other words:$ Jacobian(f) = \\nabla{f}^{T} $\n",
      "\n",
      "**(iv) what is $\\nabla^{2}{f}?$**\n",
      "\n",
      "$\\nabla^{2}{f} = Jacobian{(\\nabla{f})}$ \n",
      "\n",
      "note: could also represent the Laplacian of f?\n",
      "\n",
      "**(v) what is a Hessian of f?**\n",
      "\n",
      "The Hessian of f is a DxD Matrix, which is equivalent to Jacobian(Grad(f))."
     ]
    },
    {
     "cell_type": "markdown",
     "metadata": {},
     "source": [
      "## (2) Define $f:R^{D}\\rightarrow{R}$ as $f:x\\rightarrow{\\|x\\|_{2}^{2}}$.\n",
      "\n",
      "**(i) What is $\\nabla{f}$? Simplify it in matrix-value form.**\n",
      "\n",
      "$f:x \\rightarrow x^{T}x$\n",
      "\n",
      "$\\nabla{f} = 2x$\n",
      "\n",
      "**(ii) What is $\\nabla^{2}{f}$?**\n",
      "\n",
      "\n",
      "$\\nabla^{2}{f}$ is a DxD matrix\n",
      "\n",
      "$\\nabla^{2}{f}_{i,j} = \\begin{cases}\n",
      "2x_{i} & i==j \\\\\n",
      "0 & otherwise\n",
      "\\end{cases}\n",
      "$\n"
     ]
    },
    {
     "cell_type": "markdown",
     "metadata": {},
     "source": [
      "## (3) Define $f:R^{D}\\rightarrow{R}$ as $f:x\\rightarrow{x^{T}Mx}$.\n",
      "\n",
      "**(i) What is $\\nabla{f}$?**\n",
      "\n",
      "$\\nabla{f}$ is a Dx1 vector\n",
      "\n",
      "$\\nabla{f}_{i} = 2x_{i}M_{i,i} + \\sum\\limits_{k \\ne i}^{D}{x_{k}(M_{i,k}+M_{k,i})}$\n",
      "\n",
      "**(ii) What is $\\nabla^{2}{f}$?**\n",
      "\n",
      "$\\nabla^{2}{f}$ is a DxD matrix.\n",
      "\n",
      "$\\nabla^{2}{f}_{i,j} = \\begin{cases}\n",
      "2M_{i,j} & i==j \\\\\n",
      "M_{i,k}+M_{k,i} & otherwise\n",
      "\\end{cases}\n",
      "$\n"
     ]
    },
    {
     "cell_type": "markdown",
     "metadata": {},
     "source": [
      "## (4) Define $f:R^{D}\\rightarrow{R^{n}}$\n",
      "\n",
      "**(i) What is $\\nabla{f}$?**\n",
      "\n",
      "$\\nabla{f}$ is a nxD Matrix\n",
      "\n",
      "$\\nabla{f_{i,j}} = \\frac{ \\partial{f_{i}} }{ \\partial{x_{j}}}$"
     ]
    },
    {
     "cell_type": "markdown",
     "metadata": {},
     "source": [
      "## (5) Define $f:R^{D}\\rightarrow{R^{D}}$ as $f:x\\rightarrow{Mx}$ for fixed DxD matrix M.\n",
      "\n",
      "**(i) What is $\\nabla{f}$?**\n",
      "\n",
      "$f_{i} = M_{i,:}x = x_{1}M_{i,1} + ... + x_{D}M_{i,D}$\n",
      "\n",
      "$\\nabla{f}$ is a DxD matrix\n",
      "\n",
      "$\\nabla{f_{i,j}} = M_{i,j}$ \n",
      "\n",
      "In other words, $\\nabla{f} = M$\n"
     ]
    },
    {
     "cell_type": "code",
     "collapsed": false,
     "input": [],
     "language": "python",
     "metadata": {},
     "outputs": []
    }
   ],
   "metadata": {}
  }
 ]
}