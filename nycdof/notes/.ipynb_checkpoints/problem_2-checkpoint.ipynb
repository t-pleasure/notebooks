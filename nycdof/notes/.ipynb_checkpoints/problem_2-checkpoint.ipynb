{
 "metadata": {
  "name": "",
  "signature": "sha256:8b48a62e6bb5c3fa278d32d731db24e99e88bf91c3a2ce652fad84c1e9afca58"
 },
 "nbformat": 3,
 "nbformat_minor": 0,
 "worksheets": [
  {
   "cells": [
    {
     "cell_type": "markdown",
     "metadata": {},
     "source": [
      "---\n",
      "## Problem 2\n",
      "\n",
      "Using the NYC Department of Finance's rolling property sales [data](http://www.nyc.gov/html/dof/html/property/rolling_sales_data.shtml), answer the investigate the following:\n",
      "* What are 2014\u2019s hottest residential neighborhoods, as measured by year-over-year growth in total sale-value and total sale-count?\n",
      "\n",
      "---\n",
      "\n",
      "\n",
      "### General Approach\n",
      "\n",
      "#### Main Idea:\n",
      "\n",
      "* We will judge which neighborhoods are \"hot\" by the **momentum** of their *annual* year-over-year growth in terms of **average sale value** and **number of properties sold**.\n",
      "* Define **momentum** as -- the average over year-to-year annual growth. We will evaluate the momentum for both average sale value and number of properties sold. \n",
      "\n",
      "#### Steps:\n",
      "1. Group rows by neighborhood, then\n",
      "  1. obtain the TOTAL sale-count for each year\n",
      "  1. obtain the AVERAGE sale-value for each year\n",
      "  1. for each year, compute its year-over-year growth for the particular year by obtaining the difference (in percentage) of the given year compared to its previous year. Do this for total-sale-count and avg-sale-value.\n",
      "2. For each neighborhood, determine its year-over-year growth \"momentum\" by taking the average of its year-over-year growth values.\n",
      "3. Rank the \"hotness\" of the neighborhood by the values obtained from (3).\n",
      "\n",
      "---\n",
      "\n",
      "### Notes\n",
      "* The NYC DOF's dataset for 2014 **DOES NOT CONTAIN** data for December 2014.\n",
      "* Properties with the class code 1 or 2 are considered to be **residential**. [[ref.1](http://www.nyc.gov/html/dof/downloads/pdf/07pdf/glossary_rsf071607.pdf)] \n",
      "* Transactions with $0 sale price are considered to **transfer of ownership** rather than \"property sale.\" [[ref.2](http://www.nyc.gov/html/dof/downloads/pdf/07pdf/glossary_rsf071607.pdf)]\n",
      "\n",
      "---\n",
      "\n",
      "## Data Analysis"
     ]
    },
    {
     "cell_type": "code",
     "collapsed": false,
     "input": [
      "# import necessary libraries\n",
      "%matplotlib inline\n",
      "import csv\n",
      "import pandas as pd\n",
      "import datetime as dt\n",
      "#from pylab import *\n",
      "from collections import defaultdict"
     ],
     "language": "python",
     "metadata": {},
     "outputs": [],
     "prompt_number": 102
    },
    {
     "cell_type": "markdown",
     "metadata": {},
     "source": [
      "### Reading and cleaning data\n",
      "\n",
      "#### We will need to:\n",
      "1. **remove** rows with $0 sale price (these are \"transfer of ownership\" events)\n",
      "2. **keep** rows that represent residential properties (i.e., rows with tax class 1 or 2)\n",
      "3. **remove** rows that occured during December over all years. This is to account for the fact that we do not have data for December 2014."
     ]
    },
    {
     "cell_type": "code",
     "collapsed": false,
     "input": [
      "# read csv data to data frame\n",
      "df = pd.read_csv(\"../clean_sales_data.csv\")\n",
      "\n",
      "# add additional fields and rename fields to make life easier\n",
      "df[\"tax_class\"] = df[\"TAX CLASS AT TIME OF SALE\"]\n",
      "df[\"neighborhood\"] = df[\"NEIGHBORHOOD\"]\n",
      "df[\"sale_price\"] = df[\"SALE PRICE\"]\n",
      "df[\"sale_date\"] = df[\"SALE DATE\"].map(lambda s: dt.datetime.strptime(s, \"%m/%d/%Y\"))\n",
      "df[\"sale_day\"] = df.sale_date.map(lambda d: d.day)\n",
      "df[\"sale_month\"] = df.sale_date.map(lambda d: d.month)\n",
      "df[\"sale_year\"] = df.sale_date.map(lambda d: d.year)\n",
      "\n",
      "# remove columns that are not needed\n",
      "df_slice = df[[\"tax_class\",\"neighborhood\",\"sale_price\",\"sale_day\",\"sale_month\",\"sale_year\"]]\n",
      "\n",
      "## PERFORM FILTERING ##\n",
      "# 1. remove transfer of ownership rows\n",
      "df_slice = df_slice[df_slice.sale_price > 0]\n",
      "# 2. keep only residential properties rows\n",
      "df_slice = df_slice[(df_slice.tax_class==1) | (df_slice.tax_class==2)]\n",
      "# 3. remove december data since our 2014 dataset is missing it\n",
      "df_slice = df_slice[df_slice.sale_month != 2014]\n"
     ],
     "language": "python",
     "metadata": {},
     "outputs": [],
     "prompt_number": 104
    },
    {
     "cell_type": "markdown",
     "metadata": {},
     "source": [
      "### Aggregating data across neighborhoods\n",
      "Next, we will need to compute the *total number of property sales* and *average price of property sale* for each neighborhood and each year."
     ]
    },
    {
     "cell_type": "code",
     "collapsed": false,
     "input": [
      "neighfr = df_slice.groupby(\"neighborhood\").apply(lambda fr: \\\n",
      "          fr.groupby(\"sale_year\")[\"sale_price\"].agg(['count','sum','mean'])\n",
      "        ).T\n",
      "\n",
      "#neighfr[\"CHELSEA\"]\n",
      "#neighfr[\"CHELSEA\"].T[\"mean\"].plot()"
     ],
     "language": "python",
     "metadata": {},
     "outputs": [],
     "prompt_number": 134
    },
    {
     "cell_type": "markdown",
     "metadata": {},
     "source": [
      "#### Exploring the East Village\n",
      "In this section, we will taking look at our aggregation data by specifically looking at the East Village."
     ]
    },
    {
     "cell_type": "code",
     "collapsed": false,
     "input": [
      "neighfr[\"EAST VILLAGE\"]"
     ],
     "language": "python",
     "metadata": {},
     "outputs": [
      {
       "html": [
        "<div style=\"max-height:1000px;max-width:1500px;overflow:auto;\">\n",
        "<table border=\"1\" class=\"dataframe\">\n",
        "  <thead>\n",
        "    <tr style=\"text-align: right;\">\n",
        "      <th>sale_year</th>\n",
        "      <th>2003</th>\n",
        "      <th>2004</th>\n",
        "      <th>2005</th>\n",
        "      <th>2006</th>\n",
        "      <th>2007</th>\n",
        "      <th>2008</th>\n",
        "      <th>2009</th>\n",
        "      <th>2010</th>\n",
        "      <th>2011</th>\n",
        "      <th>2012</th>\n",
        "      <th>2013</th>\n",
        "      <th>2014</th>\n",
        "    </tr>\n",
        "  </thead>\n",
        "  <tbody>\n",
        "    <tr>\n",
        "      <th>count</th>\n",
        "      <td>       175</td>\n",
        "      <td>       120</td>\n",
        "      <td>       149</td>\n",
        "      <td>       154</td>\n",
        "      <td>       152</td>\n",
        "      <td>       202</td>\n",
        "      <td>        75</td>\n",
        "      <td>        98</td>\n",
        "      <td>       158</td>\n",
        "      <td>       159</td>\n",
        "      <td>       155</td>\n",
        "      <td>       212</td>\n",
        "    </tr>\n",
        "    <tr>\n",
        "      <th>sum</th>\n",
        "      <td> 113970711</td>\n",
        "      <td> 104440058</td>\n",
        "      <td> 267919227</td>\n",
        "      <td> 245429316</td>\n",
        "      <td> 234939109</td>\n",
        "      <td> 213131969</td>\n",
        "      <td> 111961566</td>\n",
        "      <td> 167445877</td>\n",
        "      <td> 215307734</td>\n",
        "      <td> 310883906</td>\n",
        "      <td> 395073235</td>\n",
        "      <td> 320697515</td>\n",
        "    </tr>\n",
        "    <tr>\n",
        "      <th>mean</th>\n",
        "      <td>    651261</td>\n",
        "      <td>    870333</td>\n",
        "      <td>   1798115</td>\n",
        "      <td>   1593696</td>\n",
        "      <td>   1545652</td>\n",
        "      <td>   1055108</td>\n",
        "      <td>   1492820</td>\n",
        "      <td>   1708631</td>\n",
        "      <td>   1362707</td>\n",
        "      <td>   1955244</td>\n",
        "      <td>   2548859</td>\n",
        "      <td>   1512724</td>\n",
        "    </tr>\n",
        "  </tbody>\n",
        "</table>\n",
        "</div>"
       ],
       "metadata": {},
       "output_type": "pyout",
       "prompt_number": 136,
       "text": [
        "sale_year       2003       2004       2005       2006       2007       2008  \\\n",
        "count            175        120        149        154        152        202   \n",
        "sum        113970711  104440058  267919227  245429316  234939109  213131969   \n",
        "mean          651261     870333    1798115    1593696    1545652    1055108   \n",
        "\n",
        "sale_year       2009       2010       2011       2012       2013       2014  \n",
        "count             75         98        158        159        155        212  \n",
        "sum        111961566  167445877  215307734  310883906  395073235  320697515  \n",
        "mean         1492820    1708631    1362707    1955244    2548859    1512724  "
       ]
      }
     ],
     "prompt_number": 136
    },
    {
     "cell_type": "markdown",
     "metadata": {},
     "source": [
      "**Table 1** Shows total number of property sales (e.g., count), cumulative sales value (e.g., sum), and average sales price (e.g., mean) for the East Village."
     ]
    },
    {
     "cell_type": "code",
     "collapsed": false,
     "input": [
      "neighfr[\"EAST VILLAGE\"].T[\"mean\"].plot(title=\"average sale price vs year\")"
     ],
     "language": "python",
     "metadata": {},
     "outputs": [
      {
       "metadata": {},
       "output_type": "pyout",
       "prompt_number": 141,
       "text": [
        "<matplotlib.axes.AxesSubplot at 0x12a6511d0>"
       ]
      },
      {
       "metadata": {},
       "output_type": "display_data",
       "png": "[encoded data removed]",
       "text": [
        "<matplotlib.figure.Figure at 0x10e9b3d90>"
       ]
      }
     ],
     "prompt_number": 141
    },
    {
     "cell_type": "code",
     "collapsed": false,
     "input": [
      "neighfr[\"EAST VILLAGE\"].T[\"count\"].plot(title=\"total number of sales vs year\")"
     ],
     "language": "python",
     "metadata": {},
     "outputs": [
      {
       "metadata": {},
       "output_type": "pyout",
       "prompt_number": 142,
       "text": [
        "<matplotlib.axes.AxesSubplot at 0x129f90950>"
       ]
      },
      {
       "metadata": {},
       "output_type": "display_data",
       "png": "[encoded data removed]",
       "text": [
        "<matplotlib.figure.Figure at 0x108e12610>"
       ]
      }
     ],
     "prompt_number": 142
    },
    {
     "cell_type": "markdown",
     "metadata": {},
     "source": [
      "### Computing Momentum"
     ]
    },
    {
     "cell_type": "code",
     "collapsed": false,
     "input": [
      "# a list of all neighborshoods\n",
      "NEIGHBORHOODS = df_slice.neighborhood.unique()\n",
      "\n",
      "# determine list of neighborhoods that have sale data every year from 2003-2014\n",
      "good_nbs = [nb for nb in NEIGHBORHOODS if all(map(lambda yr: yr in neighfr[nb], range(2003,2015)))]\n",
      "\n",
      "\n",
      "def momentum(nb, field):\n",
      "  \"\"\"\n",
      "  helper function to compute momentum of a field for a particular neighborhood.\n",
      "  \n",
      "  Input:\n",
      "   * nb (str) - the name of the neighborhood to compute momentum over.\n",
      "   * field (str) - field to compute momentum over. Valid fields are: \"mean\",\"count\",\"sum\"\n",
      "  Output:\n",
      "   * the momentum (float)\n",
      "  \"\"\"\n",
      "  hld = []\n",
      "  for yr in range(2004,2015):\n",
      "    prev = neighfr[nb][yr-1][field]\n",
      "    cur = neighfr[nb][yr][field]\n",
      "    hld.append((cur-prev)/(prev+0.0))\n",
      "  return np.average(hld)\n",
      "\n",
      "## Compute momentums for all neighborhoods ##\n",
      "mean_price_mm = pd.DataFrame({\n",
      "              \"neighborhoods\": good_nbs, \n",
      "              \"momentum_avg_price\": map(lambda nb: momentum(nb, \"mean\"), good_nbs)}\n",
      "             ).sort(\"momentum_avg_price\", ascending=False)\n",
      "\n",
      "count_mm = price_mm = pd.DataFrame({\n",
      "              \"neighborhoods\": good_nbs, \n",
      "              \"momentum_sales_count\": map(lambda nb: momentum(nb, \"count\"), good_nbs)}\n",
      "             ).sort(\"momentum_sales_count\", ascending=False)"
     ],
     "language": "python",
     "metadata": {},
     "outputs": [],
     "prompt_number": 149
    },
    {
     "cell_type": "markdown",
     "metadata": {},
     "source": [
      "### Hot Neighborhoods: Momentum for total number of sales\n",
      "We will look at the top 10 neighborhoods with the best momentum for total number of sales"
     ]
    },
    {
     "cell_type": "code",
     "collapsed": false,
     "input": [
      "count_mm.head(10)"
     ],
     "language": "python",
     "metadata": {},
     "outputs": [
      {
       "html": [
        "<div style=\"max-height:1000px;max-width:1500px;overflow:auto;\">\n",
        "<table border=\"1\" class=\"dataframe\">\n",
        "  <thead>\n",
        "    <tr style=\"text-align: right;\">\n",
        "      <th></th>\n",
        "      <th>momentum_sales_count</th>\n",
        "      <th>neighborhoods</th>\n",
        "    </tr>\n",
        "  </thead>\n",
        "  <tbody>\n",
        "    <tr>\n",
        "      <th>93 </th>\n",
        "      <td> 1.435646</td>\n",
        "      <td>      DOWNTOWN-FULTON MALL</td>\n",
        "    </tr>\n",
        "    <tr>\n",
        "      <th>231</th>\n",
        "      <td> 0.816408</td>\n",
        "      <td> ROSSVILLE-RICHMOND VALLEY</td>\n",
        "    </tr>\n",
        "    <tr>\n",
        "      <th>7  </th>\n",
        "      <td> 0.717478</td>\n",
        "      <td>                 FINANCIAL</td>\n",
        "    </tr>\n",
        "    <tr>\n",
        "      <th>201</th>\n",
        "      <td> 0.678030</td>\n",
        "      <td>     DONGAN HILLS-OLD TOWN</td>\n",
        "    </tr>\n",
        "    <tr>\n",
        "      <th>221</th>\n",
        "      <td> 0.333309</td>\n",
        "      <td>             OAKWOOD-BEACH</td>\n",
        "    </tr>\n",
        "    <tr>\n",
        "      <th>127</th>\n",
        "      <td> 0.288253</td>\n",
        "      <td>        WILLIAMSBURG-NORTH</td>\n",
        "    </tr>\n",
        "    <tr>\n",
        "      <th>94 </th>\n",
        "      <td> 0.266835</td>\n",
        "      <td>        DOWNTOWN-METROTECH</td>\n",
        "    </tr>\n",
        "    <tr>\n",
        "      <th>88 </th>\n",
        "      <td> 0.265585</td>\n",
        "      <td>          COBBLE HILL-WEST</td>\n",
        "    </tr>\n",
        "    <tr>\n",
        "      <th>148</th>\n",
        "      <td> 0.265446</td>\n",
        "      <td>      FLUSHING MEADOW PARK</td>\n",
        "    </tr>\n",
        "    <tr>\n",
        "      <th>67 </th>\n",
        "      <td> 0.262121</td>\n",
        "      <td>        VAN CORTLANDT PARK</td>\n",
        "    </tr>\n",
        "  </tbody>\n",
        "</table>\n",
        "</div>"
       ],
       "metadata": {},
       "output_type": "pyout",
       "prompt_number": 155,
       "text": [
        "     momentum_sales_count              neighborhoods\n",
        "93               1.435646       DOWNTOWN-FULTON MALL\n",
        "231              0.816408  ROSSVILLE-RICHMOND VALLEY\n",
        "7                0.717478                  FINANCIAL\n",
        "201              0.678030      DONGAN HILLS-OLD TOWN\n",
        "221              0.333309              OAKWOOD-BEACH\n",
        "127              0.288253         WILLIAMSBURG-NORTH\n",
        "94               0.266835         DOWNTOWN-METROTECH\n",
        "88               0.265585           COBBLE HILL-WEST\n",
        "148              0.265446       FLUSHING MEADOW PARK\n",
        "67               0.262121         VAN CORTLANDT PARK"
       ]
      }
     ],
     "prompt_number": 155
    },
    {
     "cell_type": "markdown",
     "metadata": {},
     "source": [
      "** Table 2** Displays the top 10 neighborhoods with the most momentum in terms of total number of sales.\n",
      "\n",
      "### Hot Neighborhoods: Momentum for average sales price\n",
      "We will look at the top 10 neighborhoods with the best momentum for average sales price."
     ]
    },
    {
     "cell_type": "code",
     "collapsed": false,
     "input": [
      "mean_price_mm.head(10)"
     ],
     "language": "python",
     "metadata": {},
     "outputs": [
      {
       "html": [
        "<div style=\"max-height:1000px;max-width:1500px;overflow:auto;\">\n",
        "<table border=\"1\" class=\"dataframe\">\n",
        "  <thead>\n",
        "    <tr style=\"text-align: right;\">\n",
        "      <th></th>\n",
        "      <th>momentum_avg_price</th>\n",
        "      <th>neighborhoods</th>\n",
        "    </tr>\n",
        "  </thead>\n",
        "  <tbody>\n",
        "    <tr>\n",
        "      <th>18 </th>\n",
        "      <td> 4.695195</td>\n",
        "      <td>                  KIPS BAY</td>\n",
        "    </tr>\n",
        "    <tr>\n",
        "      <th>17 </th>\n",
        "      <td> 1.725681</td>\n",
        "      <td>             JAVITS CENTER</td>\n",
        "    </tr>\n",
        "    <tr>\n",
        "      <th>113</th>\n",
        "      <td> 1.072238</td>\n",
        "      <td>                 NAVY YARD</td>\n",
        "    </tr>\n",
        "    <tr>\n",
        "      <th>198</th>\n",
        "      <td> 1.064669</td>\n",
        "      <td>         CONCORD-FOX HILLS</td>\n",
        "    </tr>\n",
        "    <tr>\n",
        "      <th>67 </th>\n",
        "      <td> 0.690838</td>\n",
        "      <td>        VAN CORTLANDT PARK</td>\n",
        "    </tr>\n",
        "    <tr>\n",
        "      <th>93 </th>\n",
        "      <td> 0.557656</td>\n",
        "      <td>      DOWNTOWN-FULTON MALL</td>\n",
        "    </tr>\n",
        "    <tr>\n",
        "      <th>15 </th>\n",
        "      <td> 0.534831</td>\n",
        "      <td>               HARLEM-WEST</td>\n",
        "    </tr>\n",
        "    <tr>\n",
        "      <th>28 </th>\n",
        "      <td> 0.513971</td>\n",
        "      <td>               SOUTHBRIDGE</td>\n",
        "    </tr>\n",
        "    <tr>\n",
        "      <th>231</th>\n",
        "      <td> 0.504331</td>\n",
        "      <td> ROSSVILLE-RICHMOND VALLEY</td>\n",
        "    </tr>\n",
        "    <tr>\n",
        "      <th>6  </th>\n",
        "      <td> 0.488875</td>\n",
        "      <td>                   FASHION</td>\n",
        "    </tr>\n",
        "  </tbody>\n",
        "</table>\n",
        "</div>"
       ],
       "metadata": {},
       "output_type": "pyout",
       "prompt_number": 157,
       "text": [
        "     momentum_avg_price              neighborhoods\n",
        "18             4.695195                   KIPS BAY\n",
        "17             1.725681              JAVITS CENTER\n",
        "113            1.072238                  NAVY YARD\n",
        "198            1.064669          CONCORD-FOX HILLS\n",
        "67             0.690838         VAN CORTLANDT PARK\n",
        "93             0.557656       DOWNTOWN-FULTON MALL\n",
        "15             0.534831                HARLEM-WEST\n",
        "28             0.513971                SOUTHBRIDGE\n",
        "231            0.504331  ROSSVILLE-RICHMOND VALLEY\n",
        "6              0.488875                    FASHION"
       ]
      }
     ],
     "prompt_number": 157
    },
    {
     "cell_type": "markdown",
     "metadata": {},
     "source": [
      "** Table 3** Displays the top 10 neighborhoods with the most momentum in terms of average sale price.\n",
      "\n",
      "\n"
     ]
    },
    {
     "cell_type": "markdown",
     "metadata": {},
     "source": [
      "\n",
      "\n",
      "## Conclusion\n",
      "In this analysis, we considered two possible metrics for neighborhood \"hotness\":  \n",
      "1. momentum of total number of sales\n",
      "2. momentum of average sales price\n",
      "\n",
      "The 10 top neighbors according to these metrics can be found in **table 2** and **table 3.**\n",
      "\n",
      "Although they mostly disagree, both metrics agree that **Van Cortlandt Park** and **Downtown-Fulton Mall** are hot neighborhoods.\n"
     ]
    },
    {
     "cell_type": "code",
     "collapsed": false,
     "input": [],
     "language": "python",
     "metadata": {},
     "outputs": []
    }
   ],
   "metadata": {}
  }
 ]
}