{
 "metadata": {
  "name": "",
  "signature": "sha256:492be56934dcc2cace38ced45262f7a2be7f5972033bc6097a6789b5189d32f5"
 },
 "nbformat": 3,
 "nbformat_minor": 0,
 "worksheets": [
  {
   "cells": [
    {
     "cell_type": "markdown",
     "metadata": {},
     "source": [
      "---\n",
      "## Problem 3\n",
      "\n",
      "Using the NYC Department of Finance's rolling property sales [data](http://www.nyc.gov/html/dof/html/property/rolling_sales_data.shtml), answer the investigate the following:\n",
      "* Does the residential market prefer new-construction (buildings built within 2years of the sale date)? How does 2014 compare with previous years in this regard?\n",
      "\n",
      "---\n",
      "\n",
      "\n",
      "### General Approach\n",
      "\n",
      "We essentially want to answer the following:\n",
      "Given two similar homes (homes with the same building class and zip code), where the main difference is that one was built within 2 years while the other is older, which will yield a higher sale price on average?\n",
      "\n",
      "* Define \"preference\" as having higher average sale price for comparable units\n",
      "1. Remove rows containing property sale value of $0 (todo: explain).\n",
      "2. Only look at Residential.\n",
      "3. Group the rows into \"built within 2 years of sale date\" and \"NOT built within 2 years of sale date\"\n",
      "4. For each group, group by (residential type, zip code) and compute average sale price\n",
      "\n",
      "\n",
      "** todo: to improve -- find comparable comparisons"
     ]
    },
    {
     "cell_type": "code",
     "collapsed": false,
     "input": [
      "# import necessary libraries\n",
      "%matplotlib inline\n",
      "import csv\n",
      "import pandas as pd\n",
      "from pylab import *\n",
      "from collections import defaultdict\n",
      "from datetime import datetime, date, timedelta"
     ],
     "language": "python",
     "metadata": {},
     "outputs": [],
     "prompt_number": 1
    },
    {
     "cell_type": "code",
     "collapsed": false,
     "input": [
      "class Row:\n",
      "    def __init__(self, csv_row):\n",
      "        self.neighborhood = csv_row[\"NEIGHBORHOOD\"]\n",
      "        self.sale_price = int(csv_row[\"SALE PRICE\"])\n",
      "        self.zip = int(csv_row[\"ZIP CODE\"])\n",
      "        (month, day, year) = csv_row[\"SALE DATE\"].split(\"/\")\n",
      "        self.sale_month = int(month)\n",
      "        self.sale_day = int(day)\n",
      "        self.sale_year = int(year)\n",
      "        self.year_built = int(csv_row[\"YEAR BUILT\"])\n",
      "        self.is_new_construction = self.sale_year >= (self.year_built + 2)\n",
      "\n",
      "# filter out rows where year_built is not defined\n",
      "# filter out rows where sale value is 0\n",
      "# filter out rows that are NOT residential properties\n",
      "RES_TAX_CLASS = set(['1','2'])\n",
      "def is_residential(taxclass):\n",
      "  return any(map(lambda c: c in RES_TAX_CLASS, taxclass))\n",
      "\n",
      "allrows = (Row(r) for r in csv.DictReader(open(\"../combined_sales_data.csv\")))\n",
      "rows = [r for r in allrows if r.sale_price > 0 and r.year_built > 0 and is_residential(r.tax_class)]"
     ],
     "language": "python",
     "metadata": {},
     "outputs": []
    }
   ],
   "metadata": {}
  }
 ]
}