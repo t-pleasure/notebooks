{
 "metadata": {
  "name": "",
  "signature": "sha256:5ab316cc6b7a117e7d96bdd304012de290e125f380577a6b0b6de486c46e4961"
 },
 "nbformat": 3,
 "nbformat_minor": 0,
 "worksheets": [
  {
   "cells": [
    {
     "cell_type": "markdown",
     "metadata": {},
     "source": [
      "---\n",
      "## Problem 5\n",
      "\n",
      "Using the NYC Department of Finance's rolling property sales [data](http://www.nyc.gov/html/dof/html/property/rolling_sales_data.shtml), investigate the following:\n",
      "* What neighborhoods have seen the highest turnover in 2014 (as measured by time-between sales of the same property)\n",
      "\n",
      "---\n",
      "\n",
      "\n",
      "### General Approach\n",
      "#### Main Idea:\n",
      "Look at the data from 2014 and measure the following for each neighborhood:\n",
      "* average time between turn-overs\n",
      "* averaging across the average-turnover for each property\n",
      "* total number of turn overs\n",
      "\n",
      "#### Steps:\n",
      "1. Find all rows that have a 2014 sale date.\n",
      "2. Group rows (from step 1) by neighborhood\n",
      "3. For each grouping, find properties (identified by (address, apt, zip)) that have been sold more than once (i.e., indicating turn-over). Keep a count of the number of times the same property has been turned-over for each neighborhood. In addition, record the time(s) between sales of properties.\n",
      "5. Construct a list of neighborhoods ranked by their number of turn-overs. Use this list to determine neighborhoods with highest turnover.\n",
      "\n",
      "---\n",
      "\n",
      "## Data Analysis"
     ]
    },
    {
     "cell_type": "code",
     "collapsed": false,
     "input": [
      "# import necessary libraries\n",
      "%matplotlib inline\n",
      "import csv\n",
      "import pandas as pd\n",
      "import numpy as np\n",
      "import datetime as dt\n",
      "from collections import defaultdict"
     ],
     "language": "python",
     "metadata": {},
     "outputs": [],
     "prompt_number": 176
    },
    {
     "cell_type": "markdown",
     "metadata": {},
     "source": [
      "### Reading and cleaning data\n",
      "We will need to:\n",
      "1. remove rows with $0 sale price (these are \"transfer of ownership\" events)\n",
      "2. keep rows that occured in 2014"
     ]
    },
    {
     "cell_type": "code",
     "collapsed": false,
     "input": [
      "# read csv data to data frame\n",
      "df = pd.read_csv(\"../clean_sales_data.csv\")\n",
      "\n",
      "# add additional fields and rename fields to make life easier\n",
      "df[\"tax_class\"] = df[\"TAX CLASS AT TIME OF SALE\"]\n",
      "df[\"neighborhood\"] = df[\"NEIGHBORHOOD\"]\n",
      "df[\"sale_price\"] = df[\"SALE PRICE\"]\n",
      "df[\"sale_date\"] = df[\"SALE DATE\"].map(lambda s: dt.datetime.strptime(s, \"%m/%d/%Y\"))\n",
      "df[\"address\"] = df[\"ADDRESS\"]\n",
      "df[\"apt\"] = df[\"APARTMENT NUMBER\"]\n",
      "df[\"zip\"] = df[\"ZIP CODE\"]\n",
      "\n",
      "# remove columns that are not needed\n",
      "df_slice = df[[\"tax_class\",\"neighborhood\",\"sale_price\",\"sale_date\",\"address\",\"apt\",\"zip\"]]\n",
      "\n",
      "## PERFORM FILTERING ##\n",
      "# 1. remove transfer of ownership rows\n",
      "df_slice = df_slice[df_slice.sale_price > 0]\n",
      "# 2. keep rows that occured in 2014\n",
      "df_slice = df_slice[df_slice.sale_date.map(lambda d:d.year) == 2014]\n",
      "\n",
      "## construct a copy of the data frame with just residential properties\n",
      "df_res_slice = df_slice[(df_slice.tax_class==1) | (df_slice.tax_class==2)]\n",
      "\n",
      "## A list of all the neighborhoods\n",
      "NEIGHBORHOODS = df_slice.neighborhood.unique()"
     ],
     "language": "python",
     "metadata": {},
     "outputs": [],
     "prompt_number": 120
    },
    {
     "cell_type": "markdown",
     "metadata": {},
     "source": [
      "### Computing Turn Over\n",
      "While computing turn over, make sure to:\n",
      "* **remove** any turn-overs that occur on the same day (entries like these exist and should be discarded)."
     ]
    },
    {
     "cell_type": "code",
     "collapsed": false,
     "input": [
      "def compute_turnover(fr):\n",
      "  ret = []\n",
      "  all_time_deltas = defaultdict(list)\n",
      "  for ((addr,apt,zcode,neigh),g) in fr.groupby([\"address\",\"apt\",\"zip\",\"neighborhood\"]):\n",
      "    if len(g) > 1:\n",
      "      dates = sorted(g.sale_date.values)\n",
      "      time_deltas = map( lambda (d1,d2): (d2-d1).astype('timedelta64[D]').item().days, \n",
      "                         zip(dates[:-1], dates[1:]))\n",
      "      # filter time deltas of 0 to ignore same day sales of same property\n",
      "      time_deltas = filter(lambda d: d!=0, time_deltas)\n",
      "      if len(time_deltas) == 0:\n",
      "        continue\n",
      "      all_time_deltas[neigh].extend(time_deltas)\n",
      "      avg_days = np.mean(time_deltas)\n",
      "      ret.append({\n",
      "             \"neighborhood\": neigh,\n",
      "             \"address\": addr,\n",
      "             \"apt\": apt,\n",
      "             \"zip\": zcode,\n",
      "             \"n_turnover\": len(time_deltas), \n",
      "             \"avg_turnover_days\": avg_days })\n",
      "  return (pd.DataFrame(ret), all_time_deltas)"
     ],
     "language": "python",
     "metadata": {},
     "outputs": [],
     "prompt_number": 177
    },
    {
     "cell_type": "markdown",
     "metadata": {},
     "source": [
      "### Turn over data"
     ]
    },
    {
     "cell_type": "code",
     "collapsed": false,
     "input": [
      "# compute turn over statistics\n",
      "gen_turno, gen_time_deltas = compute_turnover(df_slice)"
     ],
     "language": "python",
     "metadata": {},
     "outputs": []
    },
    {
     "cell_type": "markdown",
     "metadata": {},
     "source": [
      "#### Neighborhoods with lowest average turnover days"
     ]
    },
    {
     "cell_type": "code",
     "collapsed": false,
     "input": [
      "pd.DataFrame([ {\"neighborhood\": neigh, \n",
      "                \"avg_turnover_days\": np.mean(gen_time_deltas[neigh])} for neigh in NEIGHBORHOODS \\\n",
      "                  if neigh in gen_time_deltas] ) \\\n",
      "             .sort(\"avg_turnover_days\", ascending=True).head(10)"
     ],
     "language": "python",
     "metadata": {},
     "outputs": [
      {
       "html": [
        "<div style=\"max-height:1000px;max-width:1500px;overflow:auto;\">\n",
        "<table border=\"1\" class=\"dataframe\">\n",
        "  <thead>\n",
        "    <tr style=\"text-align: right;\">\n",
        "      <th></th>\n",
        "      <th>avg_turnover_days</th>\n",
        "      <th>neighborhood</th>\n",
        "    </tr>\n",
        "  </thead>\n",
        "  <tbody>\n",
        "    <tr>\n",
        "      <th>2 </th>\n",
        "      <td>  4.000000</td>\n",
        "      <td>                 CLINTON</td>\n",
        "    </tr>\n",
        "    <tr>\n",
        "      <th>25</th>\n",
        "      <td>  7.000000</td>\n",
        "      <td>        PROSPECT HEIGHTS</td>\n",
        "    </tr>\n",
        "    <tr>\n",
        "      <th>5 </th>\n",
        "      <td>  7.000000</td>\n",
        "      <td>  GREENWICH VILLAGE-WEST</td>\n",
        "    </tr>\n",
        "    <tr>\n",
        "      <th>9 </th>\n",
        "      <td> 25.948586</td>\n",
        "      <td>            MIDTOWN WEST</td>\n",
        "    </tr>\n",
        "    <tr>\n",
        "      <th>17</th>\n",
        "      <td> 44.000000</td>\n",
        "      <td>               SOUNDVIEW</td>\n",
        "    </tr>\n",
        "    <tr>\n",
        "      <th>6 </th>\n",
        "      <td> 59.000000</td>\n",
        "      <td>          HARLEM-CENTRAL</td>\n",
        "    </tr>\n",
        "    <tr>\n",
        "      <th>7 </th>\n",
        "      <td> 60.000000</td>\n",
        "      <td>                KIPS BAY</td>\n",
        "    </tr>\n",
        "    <tr>\n",
        "      <th>19</th>\n",
        "      <td> 83.000000</td>\n",
        "      <td>            CLINTON HILL</td>\n",
        "    </tr>\n",
        "    <tr>\n",
        "      <th>14</th>\n",
        "      <td> 83.272727</td>\n",
        "      <td> UPPER WEST SIDE (59-79)</td>\n",
        "    </tr>\n",
        "    <tr>\n",
        "      <th>32</th>\n",
        "      <td> 85.500000</td>\n",
        "      <td>                WOODSIDE</td>\n",
        "    </tr>\n",
        "  </tbody>\n",
        "</table>\n",
        "</div>"
       ],
       "metadata": {},
       "output_type": "pyout",
       "prompt_number": 186,
       "text": [
        "    avg_turnover_days             neighborhood\n",
        "2            4.000000                  CLINTON\n",
        "25           7.000000         PROSPECT HEIGHTS\n",
        "5            7.000000   GREENWICH VILLAGE-WEST\n",
        "9           25.948586             MIDTOWN WEST\n",
        "17          44.000000                SOUNDVIEW\n",
        "6           59.000000           HARLEM-CENTRAL\n",
        "7           60.000000                 KIPS BAY\n",
        "19          83.000000             CLINTON HILL\n",
        "14          83.272727  UPPER WEST SIDE (59-79)\n",
        "32          85.500000                 WOODSIDE"
       ]
      }
     ],
     "prompt_number": 186
    },
    {
     "cell_type": "markdown",
     "metadata": {},
     "source": [
      "**Table1** Top 10 neighborhoods with lowest turnover times.\n",
      "\n",
      "#### Neighborhoods with highest number of turnovers"
     ]
    },
    {
     "cell_type": "code",
     "collapsed": false,
     "input": [
      "pd.DataFrame(map(lambda (n,c): {\"neighborhood\": n, \"total_turnover_count\":c},\n",
      "                 gen_turno.groupby(\"neighborhood\").n_turnover.sum().iteritems()))\\\n",
      "            .sort(\"total_turnover_count\", ascending=False).head(10)"
     ],
     "language": "python",
     "metadata": {},
     "outputs": [
      {
       "html": [
        "<div style=\"max-height:1000px;max-width:1500px;overflow:auto;\">\n",
        "<table border=\"1\" class=\"dataframe\">\n",
        "  <thead>\n",
        "    <tr style=\"text-align: right;\">\n",
        "      <th></th>\n",
        "      <th>neighborhood</th>\n",
        "      <th>total_turnover_count</th>\n",
        "    </tr>\n",
        "  </thead>\n",
        "  <tbody>\n",
        "    <tr>\n",
        "      <th>19</th>\n",
        "      <td>            MIDTOWN WEST</td>\n",
        "      <td> 389</td>\n",
        "    </tr>\n",
        "    <tr>\n",
        "      <th>31</th>\n",
        "      <td> UPPER WEST SIDE (59-79)</td>\n",
        "      <td>  22</td>\n",
        "    </tr>\n",
        "    <tr>\n",
        "      <th>22</th>\n",
        "      <td>              OCEAN HILL</td>\n",
        "      <td>   6</td>\n",
        "    </tr>\n",
        "    <tr>\n",
        "      <th>28</th>\n",
        "      <td>                 TRIBECA</td>\n",
        "      <td>   5</td>\n",
        "    </tr>\n",
        "    <tr>\n",
        "      <th>30</th>\n",
        "      <td> UPPER EAST SIDE (79-96)</td>\n",
        "      <td>   4</td>\n",
        "    </tr>\n",
        "    <tr>\n",
        "      <th>10</th>\n",
        "      <td>          FLUSHING-NORTH</td>\n",
        "      <td>   4</td>\n",
        "    </tr>\n",
        "    <tr>\n",
        "      <th>32</th>\n",
        "      <td> UPPER WEST SIDE (79-96)</td>\n",
        "      <td>   2</td>\n",
        "    </tr>\n",
        "    <tr>\n",
        "      <th>7 </th>\n",
        "      <td>            EAST VILLAGE</td>\n",
        "      <td>   2</td>\n",
        "    </tr>\n",
        "    <tr>\n",
        "      <th>8 </th>\n",
        "      <td>               FINANCIAL</td>\n",
        "      <td>   2</td>\n",
        "    </tr>\n",
        "    <tr>\n",
        "      <th>3 </th>\n",
        "      <td>            CIVIC CENTER</td>\n",
        "      <td>   2</td>\n",
        "    </tr>\n",
        "  </tbody>\n",
        "</table>\n",
        "</div>"
       ],
       "metadata": {},
       "output_type": "pyout",
       "prompt_number": 163,
       "text": [
        "               neighborhood  total_turnover_count\n",
        "19             MIDTOWN WEST                   389\n",
        "31  UPPER WEST SIDE (59-79)                    22\n",
        "22               OCEAN HILL                     6\n",
        "28                  TRIBECA                     5\n",
        "30  UPPER EAST SIDE (79-96)                     4\n",
        "10           FLUSHING-NORTH                     4\n",
        "32  UPPER WEST SIDE (79-96)                     2\n",
        "7              EAST VILLAGE                     2\n",
        "8                 FINANCIAL                     2\n",
        "3              CIVIC CENTER                     2"
       ]
      }
     ],
     "prompt_number": 163
    },
    {
     "cell_type": "markdown",
     "metadata": {},
     "source": [
      "**Table2** Top 10 neighborhoods with highest turnover amounts.\n",
      "\n",
      "\n",
      "#### Neighborhoods with lowest average of average turn over time for individual properties"
     ]
    },
    {
     "cell_type": "code",
     "collapsed": false,
     "input": [
      "pd.DataFrame(map(lambda (n,c): {\"neighborhood\": n, \"avg_avg_turnover_days\":c},\n",
      "                 gen_turno.groupby(\"neighborhood\").avg_turnover_days.mean().iteritems()))\\\n",
      "            .sort(\"avg_avg_turnover_days\", ascending=True).head(10)"
     ],
     "language": "python",
     "metadata": {},
     "outputs": [
      {
       "html": [
        "<div style=\"max-height:1000px;max-width:1500px;overflow:auto;\">\n",
        "<table border=\"1\" class=\"dataframe\">\n",
        "  <thead>\n",
        "    <tr style=\"text-align: right;\">\n",
        "      <th></th>\n",
        "      <th>avg_avg_turnover_days</th>\n",
        "      <th>neighborhood</th>\n",
        "    </tr>\n",
        "  </thead>\n",
        "  <tbody>\n",
        "    <tr>\n",
        "      <th>4 </th>\n",
        "      <td>  4.000000</td>\n",
        "      <td>                CLINTON</td>\n",
        "    </tr>\n",
        "    <tr>\n",
        "      <th>25</th>\n",
        "      <td>  7.000000</td>\n",
        "      <td>       PROSPECT HEIGHTS</td>\n",
        "    </tr>\n",
        "    <tr>\n",
        "      <th>13</th>\n",
        "      <td>  7.000000</td>\n",
        "      <td> GREENWICH VILLAGE-WEST</td>\n",
        "    </tr>\n",
        "    <tr>\n",
        "      <th>19</th>\n",
        "      <td> 33.589696</td>\n",
        "      <td>           MIDTOWN WEST</td>\n",
        "    </tr>\n",
        "    <tr>\n",
        "      <th>26</th>\n",
        "      <td> 44.000000</td>\n",
        "      <td>              SOUNDVIEW</td>\n",
        "    </tr>\n",
        "    <tr>\n",
        "      <th>15</th>\n",
        "      <td> 59.000000</td>\n",
        "      <td>         HARLEM-CENTRAL</td>\n",
        "    </tr>\n",
        "    <tr>\n",
        "      <th>17</th>\n",
        "      <td> 60.000000</td>\n",
        "      <td>               KIPS BAY</td>\n",
        "    </tr>\n",
        "    <tr>\n",
        "      <th>5 </th>\n",
        "      <td> 83.000000</td>\n",
        "      <td>           CLINTON HILL</td>\n",
        "    </tr>\n",
        "    <tr>\n",
        "      <th>35</th>\n",
        "      <td> 85.500000</td>\n",
        "      <td>               WOODSIDE</td>\n",
        "    </tr>\n",
        "    <tr>\n",
        "      <th>7 </th>\n",
        "      <td> 90.000000</td>\n",
        "      <td>           EAST VILLAGE</td>\n",
        "    </tr>\n",
        "  </tbody>\n",
        "</table>\n",
        "</div>"
       ],
       "metadata": {},
       "output_type": "pyout",
       "prompt_number": 165,
       "text": [
        "    avg_avg_turnover_days            neighborhood\n",
        "4                4.000000                 CLINTON\n",
        "25               7.000000        PROSPECT HEIGHTS\n",
        "13               7.000000  GREENWICH VILLAGE-WEST\n",
        "19              33.589696            MIDTOWN WEST\n",
        "26              44.000000               SOUNDVIEW\n",
        "15              59.000000          HARLEM-CENTRAL\n",
        "17              60.000000                KIPS BAY\n",
        "5               83.000000            CLINTON HILL\n",
        "35              85.500000                WOODSIDE\n",
        "7               90.000000            EAST VILLAGE"
       ]
      }
     ],
     "prompt_number": 165
    },
    {
     "cell_type": "markdown",
     "metadata": {},
     "source": [
      "**Table3** Top 10 neighborhoods with lowest average of average turnover times.\n",
      "\n",
      "\n"
     ]
    },
    {
     "cell_type": "markdown",
     "metadata": {},
     "source": [
      "\n",
      "### Conclusion\n",
      "* **Q** What neighborhoods have seen the highest turnover in 2014 (as measured by time-between sales of the same property)?\n",
      "* **A** We measured three quantities for each neighborhood as specified in table1 (average turnover time), table2 (total turnover amount), and table3 (average of average turnover times). From doing so, we saw that **Midtown West** and the **Upper West Side** has a high number of turnovers with short turnover times.\n"
     ]
    },
    {
     "cell_type": "code",
     "collapsed": false,
     "input": [
      "#gen_turno.groupby(\"neighborhood\")[[\"avg_turnover_days\",\"n_turnover\"]].agg([\"sum\",\"mean\"])"
     ],
     "language": "python",
     "metadata": {},
     "outputs": [],
     "prompt_number": 187
    },
    {
     "cell_type": "code",
     "collapsed": false,
     "input": [
      "##res_turno, res_time_deltas = compute_turnover(df_res_slice)"
     ],
     "language": "python",
     "metadata": {},
     "outputs": []
    }
   ],
   "metadata": {}
  }
 ]
}