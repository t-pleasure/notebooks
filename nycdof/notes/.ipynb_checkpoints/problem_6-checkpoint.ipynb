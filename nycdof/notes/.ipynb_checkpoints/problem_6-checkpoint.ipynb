{
 "metadata": {
  "name": "",
  "signature": "sha256:c7fc68257f7ec04bfd4247ebdfae43a5062e370629d2fb37ebb13d76fb85ab37"
 },
 "nbformat": 3,
 "nbformat_minor": 0,
 "worksheets": [
  {
   "cells": [
    {
     "cell_type": "markdown",
     "metadata": {},
     "source": [
      "---\n",
      "## Problem 6\n",
      "\n",
      "Using the NYC Department of Finance's rolling property sales [data](http://www.nyc.gov/html/dof/html/property/rolling_sales_data.shtml), investigate the following:\n",
      "* **Q1:** Can you visualize YoY sales-growth by neighborhood (or ZIP code) on a map? \n",
      "* **Q2:** How would you add the element of time to this map?\n",
      "\n",
      "---\n",
      "\n",
      "\n",
      "### Answers\n",
      "* **A1:** Yes. One way to do so is to have a map with clickable zip code regions. Once a person clicks on a particular region, a YoY sales-growth timeseries will appear.  \n",
      "* **A2:** \n",
      "---\n",
      "## Example Implementation\n",
      "The following section will demonstrate how we would go about gathering the appropriate data for visualization."
     ]
    },
    {
     "cell_type": "code",
     "collapsed": false,
     "input": [
      "# import necessary libraries\n",
      "%matplotlib inline\n",
      "import csv\n",
      "import pandas as pd\n",
      "import datetime as dt\n",
      "from pylab import *\n",
      "from collections import defaultdict\n",
      "import seaborn as sns\n",
      "\n",
      "# helper functions and global constants\n",
      "def str_to_date(s):\n",
      "  \"\"\"\n",
      "  Given a string of the format \"MM/DD/YYYY\" returns a datetime.datetime instance.\n",
      "  \n",
      "  Input: s - input date string\n",
      "  Output: datetime.datetime representation of s\n",
      "  \"\"\"\n",
      "  (mm,dd,yy) = map(lambda s: int(s), s.split(\"/\"))\n",
      "  return dt.datetime(yy,mm,dd)"
     ],
     "language": "python",
     "metadata": {},
     "outputs": [],
     "prompt_number": 2
    },
    {
     "cell_type": "markdown",
     "metadata": {},
     "source": [
      "**Read in data and perform appropriate filtering**"
     ]
    },
    {
     "cell_type": "code",
     "collapsed": false,
     "input": [
      "df = pd.read_csv(\"../clean_sales_data.csv\")\n",
      "df = df[(df[\"SALE PRICE\"]>0) & (df[\"ZIP CODE\"]!=0)]\n",
      "df[\"SALE DATE\"] = df[\"SALE DATE\"].map(str_to_date)\n",
      "df[\"SALE YEAR\"] = df[\"SALE DATE\"].map(lambda d:d.year)\n",
      "df_slice = df[[\"ZIP CODE\",\"SALE YEAR\"]]"
     ],
     "language": "python",
     "metadata": {},
     "outputs": [],
     "prompt_number": 40
    },
    {
     "cell_type": "markdown",
     "metadata": {},
     "source": [
      "**Compute year-over-year growth for each year from 2004...2014 for all zip codes**"
     ]
    },
    {
     "cell_type": "code",
     "collapsed": false,
     "input": [
      "# mapping from {zipcode -> {year -> #sales}}\n",
      "salescnt = {}\n",
      "for (zipcode, zip_group) in df_slice.groupby([\"ZIP CODE\"]):\n",
      "  salescnt[zipcode] = dict((yr, len(yr_group)) for (yr, yr_group) in zip_group.groupby(\"SALE YEAR\"))\n",
      "# create data frame from salescnt\n",
      "salesdf = pd.DataFrame(data)\n",
      "\n",
      "# use small subset of zipcodes for this example\n",
      "salesdf_slice = salesdf[[10001, 10002, 10003, 10004]]\n",
      "\n",
      "# generate yoy-annual sales growth as measured by change in number of sales\n",
      "minyear=2003\n",
      "maxyear=2014\n",
      "salesgrowth = defaultdict(dict)\n",
      "for zipcode in salesdf_slice.columns:\n",
      "  for yr in range(minyear+1,maxyear+1):\n",
      "    cur = salesdf_slice[zipcode][yr]\n",
      "    prev = salesdf_slice[zipcode][yr-1]\n",
      "    salesgrowth[zipcode][yr] = (cur-prev)/(prev+0.0)"
     ],
     "language": "python",
     "metadata": {},
     "outputs": [],
     "prompt_number": 76
    },
    {
     "cell_type": "markdown",
     "metadata": {},
     "source": [
      "### Tables and visualizations\n",
      "** obtain tabular view of data **"
     ]
    },
    {
     "cell_type": "code",
     "collapsed": false,
     "input": [
      "yoy_df = pd.DataFrame(salesgrowth)\n",
      "yoy_df"
     ],
     "language": "python",
     "metadata": {},
     "outputs": [
      {
       "html": [
        "<div style=\"max-height:1000px;max-width:1500px;overflow:auto;\">\n",
        "<table border=\"1\" class=\"dataframe\">\n",
        "  <thead>\n",
        "    <tr style=\"text-align: right;\">\n",
        "      <th></th>\n",
        "      <th>10001</th>\n",
        "      <th>10002</th>\n",
        "      <th>10003</th>\n",
        "      <th>10004</th>\n",
        "    </tr>\n",
        "  </thead>\n",
        "  <tbody>\n",
        "    <tr>\n",
        "      <th>2004</th>\n",
        "      <td> 0.224771</td>\n",
        "      <td> 0.073099</td>\n",
        "      <td> 0.092527</td>\n",
        "      <td> 0.000000</td>\n",
        "    </tr>\n",
        "    <tr>\n",
        "      <th>2005</th>\n",
        "      <td>-0.172285</td>\n",
        "      <td>-0.035422</td>\n",
        "      <td>-0.122693</td>\n",
        "      <td>-0.565217</td>\n",
        "    </tr>\n",
        "    <tr>\n",
        "      <th>2006</th>\n",
        "      <td> 0.076923</td>\n",
        "      <td> 0.192090</td>\n",
        "      <td>-0.167079</td>\n",
        "      <td> 2.100000</td>\n",
        "    </tr>\n",
        "    <tr>\n",
        "      <th>2007</th>\n",
        "      <td> 0.436975</td>\n",
        "      <td>-0.104265</td>\n",
        "      <td> 0.328380</td>\n",
        "      <td>-0.612903</td>\n",
        "    </tr>\n",
        "    <tr>\n",
        "      <th>2008</th>\n",
        "      <td>-0.345029</td>\n",
        "      <td>-0.322751</td>\n",
        "      <td>-0.220358</td>\n",
        "      <td> 0.375000</td>\n",
        "    </tr>\n",
        "    <tr>\n",
        "      <th>2009</th>\n",
        "      <td>-0.611607</td>\n",
        "      <td>-0.343750</td>\n",
        "      <td>-0.321377</td>\n",
        "      <td> 2.939394</td>\n",
        "    </tr>\n",
        "    <tr>\n",
        "      <th>2010</th>\n",
        "      <td> 0.333333</td>\n",
        "      <td> 0.023810</td>\n",
        "      <td>-0.171247</td>\n",
        "      <td>-0.492308</td>\n",
        "    </tr>\n",
        "    <tr>\n",
        "      <th>2011</th>\n",
        "      <td> 0.836207</td>\n",
        "      <td> 0.465116</td>\n",
        "      <td> 0.744898</td>\n",
        "      <td> 0.212121</td>\n",
        "    </tr>\n",
        "    <tr>\n",
        "      <th>2012</th>\n",
        "      <td> 0.234742</td>\n",
        "      <td> 0.333333</td>\n",
        "      <td> 0.016082</td>\n",
        "      <td>-0.062500</td>\n",
        "    </tr>\n",
        "    <tr>\n",
        "      <th>2013</th>\n",
        "      <td> 0.011407</td>\n",
        "      <td> 0.160714</td>\n",
        "      <td> 0.105036</td>\n",
        "      <td> 0.360000</td>\n",
        "    </tr>\n",
        "    <tr>\n",
        "      <th>2014</th>\n",
        "      <td>-0.229323</td>\n",
        "      <td>-0.300000</td>\n",
        "      <td>-0.061198</td>\n",
        "      <td>-0.137255</td>\n",
        "    </tr>\n",
        "  </tbody>\n",
        "</table>\n",
        "</div>"
       ],
       "metadata": {},
       "output_type": "pyout",
       "prompt_number": 83,
       "text": [
        "         10001     10002     10003     10004\n",
        "2004  0.224771  0.073099  0.092527  0.000000\n",
        "2005 -0.172285 -0.035422 -0.122693 -0.565217\n",
        "2006  0.076923  0.192090 -0.167079  2.100000\n",
        "2007  0.436975 -0.104265  0.328380 -0.612903\n",
        "2008 -0.345029 -0.322751 -0.220358  0.375000\n",
        "2009 -0.611607 -0.343750 -0.321377  2.939394\n",
        "2010  0.333333  0.023810 -0.171247 -0.492308\n",
        "2011  0.836207  0.465116  0.744898  0.212121\n",
        "2012  0.234742  0.333333  0.016082 -0.062500\n",
        "2013  0.011407  0.160714  0.105036  0.360000\n",
        "2014 -0.229323 -0.300000 -0.061198 -0.137255"
       ]
      }
     ],
     "prompt_number": 83
    },
    {
     "cell_type": "markdown",
     "metadata": {},
     "source": [
      "**Table1** The table above contains the growth rate for year each for the select zip codes\n",
      "\n",
      "---\n",
      "\n",
      "** Obtain visualization for zipcode=10001 **"
     ]
    },
    {
     "cell_type": "code",
     "collapsed": false,
     "input": [
      "yoy_df[10001].plot(title=\"yoy growth for zipcode 10001\")"
     ],
     "language": "python",
     "metadata": {},
     "outputs": [
      {
       "metadata": {},
       "output_type": "pyout",
       "prompt_number": 84,
       "text": [
        "<matplotlib.axes.AxesSubplot at 0x11bafa990>"
       ]
      },
      {
       "metadata": {},
       "output_type": "display_data",
       "png": "[encoded data removed]",
       "text": [
        "<matplotlib.figure.Figure at 0x11b86d550>"
       ]
      }
     ],
     "prompt_number": 84
    },
    {
     "cell_type": "markdown",
     "metadata": {},
     "source": [
      "**Graph1** the graph represents a plot of the yoy-growth for the 10001 zip code\n",
      "\n",
      "---\n",
      "\n",
      "### Map visualization\n",
      "\n",
      "* We can use the visualizations above to get an idea of how an interactive map might look like."
     ]
    },
    {
     "cell_type": "code",
     "collapsed": false,
     "input": [],
     "language": "python",
     "metadata": {},
     "outputs": []
    }
   ],
   "metadata": {}
  }
 ]
}