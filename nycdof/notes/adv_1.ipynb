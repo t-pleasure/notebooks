{
 "metadata": {
  "name": "",
  "signature": "sha256:afb6e1fe5032a2eefd0ab1acedc3ec8b6c73d826711ab2c0619bb22c32c8cf39"
 },
 "nbformat": 3,
 "nbformat_minor": 0,
 "worksheets": [
  {
   "cells": [
    {
     "cell_type": "markdown",
     "metadata": {},
     "source": [
      "## Problem (Advanced) 1\n",
      "* What does the distribution of sale-price look like for 2014 sales of residential properties having more than 6 floors?\n",
      "\n",
      "### Approach\n",
      "* Combine department of finance rolling sales data with nyc PLUTO data.\n",
      "\n",
      "\n",
      "## Data Analysis"
     ]
    },
    {
     "cell_type": "code",
     "collapsed": false,
     "input": [
      "# import necessary libraries\n",
      "%matplotlib inline\n",
      "import csv\n",
      "import pandas as pd\n",
      "import datetime as dt\n",
      "from pylab import *\n",
      "from collections import defaultdict"
     ],
     "language": "python",
     "metadata": {},
     "outputs": [],
     "prompt_number": 81
    },
    {
     "cell_type": "markdown",
     "metadata": {},
     "source": [
      "### Read and clean DOF Rolling Sales data\n",
      "We will need to do the following for the rolling sales data:\n",
      "1. remove rows with sale price == $0 (indicates change of ownership)\n",
      "2. keep rows that occur in 2014\n",
      "3. keep rows that are residential (tax_class field must be 1 or 2) [[ref.1](http://www.nyc.gov/html/dof/downloads/pdf/07pdf/glossary_rsf071607.pdf)]"
     ]
    },
    {
     "cell_type": "code",
     "collapsed": false,
     "input": [
      "# read in nyc dof sales data\n",
      "df = pd.read_csv(\"../clean_sales_data.csv\")\n",
      "\n",
      "# add additional fields and rename fields to make life easier\n",
      "df[\"tax_class\"] = df[\"TAX CLASS AT TIME OF SALE\"]\n",
      "df[\"sale_price\"] = df[\"SALE PRICE\"]\n",
      "df[\"address\"] = df[\"ADDRESS\"]\n",
      "df[\"sale_date\"] = df[\"SALE DATE\"].map(lambda s: dt.datetime.strptime(s, \"%m/%d/%Y\"))\n",
      "df[\"sale_year\"] = df[\"sale_date\"].map(lambda d:d.year)\n",
      "df[\"zip\"] = df[\"ZIP CODE\"]\n",
      "\n",
      "# remove columns that are not needed\n",
      "df_slice = df[[\"sale_year\",\"tax_class\",\"sale_price\",\"address\",\"zip\"]]\n",
      "\n",
      "## PERFORM FILTERING ##\n",
      "# 1. remove transfer of ownership rows\n",
      "df_slice = df_slice[df_slice.sale_price > 0]\n",
      "# 2. keep rows that occured in 2014\n",
      "df_slice = df_slice[df_slice.sale_year == 2014]\n",
      "# 3. keep only rows that are residential\n",
      "df_slice = df_slice[(df_slice.tax_class==1) | (df_slice.tax_class==2)]"
     ],
     "language": "python",
     "metadata": {},
     "outputs": [],
     "prompt_number": 82
    },
    {
     "cell_type": "markdown",
     "metadata": {},
     "source": [
      "### Read in and clean PLUTO data\n",
      "While reading in PLUTO data:\n",
      "1. **keep** entries where the number of floors > 6\n",
      "2. create a hash map from (addr,zip)->number of floors for quick querying"
     ]
    },
    {
     "cell_type": "code",
     "collapsed": false,
     "input": [
      "# read in pluto data\n",
      "pt = pd.read_csv(\"../pluto_dir/pluto_all.csv\")\n",
      "\n",
      "# remove properties that do not have more than 6 floors\n",
      "pt = pt[pt.NumFloors > 6]\n",
      "\n",
      "# create mapping (addr, zip) -> nfloors\n",
      "addr_to_floors = dict(((addr.strip(),zipcode), floors) for (addr, floors, zipcode) \n",
      "                          in pt[[\"Address\",\"NumFloors\",\"ZipCode\"]].values)"
     ],
     "language": "python",
     "metadata": {},
     "outputs": [],
     "prompt_number": 87
    },
    {
     "cell_type": "markdown",
     "metadata": {},
     "source": [
      "### Combining Rolling Sales and PLUTO data\n",
      "* For every entry left in our Rolling Sales data, check to see if its (address, zipcode) exists in the addr_to_floors mapping. If so, record it!"
     ]
    },
    {
     "cell_type": "code",
     "collapsed": false,
     "input": [
      "# obtain prices for properties that have more than 6 floors\n",
      "prices = [p for (addr, zipcode, p) in df_slice[[\"address\",\"zip\",\"sale_price\"]].values \n",
      "          if (addr, zipcode) in addr_to_floors]  \n",
      "\n",
      "# convert to Series to allow for easier plotting\n",
      "prices = pd.Series(prices)"
     ],
     "language": "python",
     "metadata": {},
     "outputs": [],
     "prompt_number": 88
    },
    {
     "cell_type": "markdown",
     "metadata": {},
     "source": [
      "### Plotting price distribution"
     ]
    },
    {
     "cell_type": "code",
     "collapsed": false,
     "input": [
      "s[(s<3000000)].hist(bins=100)"
     ],
     "language": "python",
     "metadata": {},
     "outputs": [
      {
       "metadata": {},
       "output_type": "pyout",
       "prompt_number": 89,
       "text": [
        "<matplotlib.axes.AxesSubplot at 0x129427e50>"
       ]
      },
      {
       "metadata": {},
       "output_type": "display_data",
       "png": "[encoded data removed]",
       "text": [
        "<matplotlib.figure.Figure at 0x11ccca5d0>"
       ]
      }
     ],
     "prompt_number": 89
    },
    {
     "cell_type": "markdown",
     "metadata": {},
     "source": [
      "**Histogram 1** The distribution of sale prices for residential properties <\\$3M with more than 6 floors"
     ]
    },
    {
     "cell_type": "code",
     "collapsed": false,
     "input": [
      "s[(s<9000000)].hist(bins=100)"
     ],
     "language": "python",
     "metadata": {},
     "outputs": [
      {
       "metadata": {},
       "output_type": "pyout",
       "prompt_number": 86,
       "text": [
        "<matplotlib.axes.AxesSubplot at 0x11d269750>"
       ]
      },
      {
       "metadata": {},
       "output_type": "display_data",
       "png": "[encoded data removed]",
       "text": [
        "<matplotlib.figure.Figure at 0x11c209dd0>"
       ]
      }
     ],
     "prompt_number": 86
    },
    {
     "cell_type": "markdown",
     "metadata": {},
     "source": [
      "**Histogram 2** The distribution of sale prices for residential properties <\\$9M with more than 6 floors\n",
      "\n",
      "### Note\n",
      "We can see that viewing the histogram beyond \\$3M makes it less becomes less useful and less legible.\n",
      "\n",
      "## Conclusion\n",
      "* Histogram1 shows the sale price distribution for residential properties with more than 6 floors. We can see that the average property price will be around $700,000. Furthermore, there exist properties valued significantly above that as indicated by the tail in the graphs."
     ]
    },
    {
     "cell_type": "code",
     "collapsed": false,
     "input": [],
     "language": "python",
     "metadata": {},
     "outputs": []
    }
   ],
   "metadata": {}
  }
 ]
}