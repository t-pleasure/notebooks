{
 "metadata": {
  "name": "",
  "signature": "sha256:5e1cedc45646801e8f2d5b70bbae95afbfa8f4f0d4ce155864a869558124fd26"
 },
 "nbformat": 3,
 "nbformat_minor": 0,
 "worksheets": [
  {
   "cells": [
    {
     "cell_type": "markdown",
     "metadata": {},
     "source": [
      "## Problem (Advanced) 2\n",
      "* What is the total OfficeArea sold in 2014?\n",
      "\n",
      "### Approach\n",
      "* Combine department of finance rolling sales data with nyc PLUTO data.\n",
      "\n",
      "\n",
      "## Data Analysis"
     ]
    },
    {
     "cell_type": "code",
     "collapsed": false,
     "input": [
      "# import necessary libraries\n",
      "%matplotlib inline\n",
      "import csv\n",
      "import pandas as pd\n",
      "import datetime as dt\n",
      "from pylab import *\n",
      "from collections import defaultdict"
     ],
     "language": "python",
     "metadata": {},
     "outputs": [],
     "prompt_number": 31
    },
    {
     "cell_type": "markdown",
     "metadata": {},
     "source": [
      "### Read and clean DOF Rolling Sales data\n",
      "We will need to do the following for the rolling sales data:\n",
      "1. **remove** rows with sale price == $0 (indicates change of ownership)\n",
      "2. **keep** rows that occur in 2014\n",
      "3. **Questionable** should we remove residential properties? We'll check later on."
     ]
    },
    {
     "cell_type": "code",
     "collapsed": false,
     "input": [
      "# read in nyc dof sales data\n",
      "df = pd.read_csv(\"../clean_sales_data.csv\")\n",
      "\n",
      "# add additional fields and rename fields to make life easier\n",
      "df[\"tax_class\"] = df[\"TAX CLASS AT TIME OF SALE\"]\n",
      "df[\"sale_price\"] = df[\"SALE PRICE\"]\n",
      "df[\"address\"] = df[\"ADDRESS\"]\n",
      "df[\"sale_date\"] = df[\"SALE DATE\"].map(lambda s: dt.datetime.strptime(s, \"%m/%d/%Y\"))\n",
      "df[\"sale_year\"] = df[\"sale_date\"].map(lambda d:d.year)\n",
      "df[\"zip\"] = df[\"ZIP CODE\"]\n",
      "\n",
      "# remove columns that are not needed\n",
      "df_slice = df[[\"sale_year\",\"tax_class\",\"sale_price\",\"address\",\"zip\"]]\n",
      "\n",
      "## PERFORM FILTERING ##\n",
      "# 1. remove transfer of ownership rows\n",
      "df_slice = df_slice[df_slice.sale_price > 0]\n",
      "# 2. keep rows that occured in 2014\n",
      "df_slice = df_slice[df_slice.sale_year == 2014]"
     ],
     "language": "python",
     "metadata": {},
     "outputs": [],
     "prompt_number": 32
    },
    {
     "cell_type": "markdown",
     "metadata": {},
     "source": [
      "### Read in and clean PLUTO data\n",
      "While reading in PLUTO data:\n",
      "1. **remove** entries where Office Area is 0\n",
      "2. create a hash map from (addr,zip)-> office area"
     ]
    },
    {
     "cell_type": "code",
     "collapsed": false,
     "input": [
      "# read in pluto data\n",
      "pt = pd.read_csv(\"../pluto_dir/pluto_all.csv\")\n",
      "\n",
      "# remove entries where OfficeArea is 0\n",
      "pt = pt[pt.OfficeArea>0]\n",
      "\n",
      "# create hash map from (addr,zip) -> office area\n",
      "addr_to_office_area = dict( ((addr.strip(),zipcode),area) for (addr,zipcode,area) \n",
      "                            in pt[[\"Address\",\"ZipCode\",\"OfficeArea\"]].values )"
     ],
     "language": "python",
     "metadata": {},
     "outputs": [],
     "prompt_number": 33
    },
    {
     "cell_type": "markdown",
     "metadata": {},
     "source": [
      "### Combining Rolling Sales and PLUTO data\n",
      "* For every entry left in our Rolling Sales data, check to see if its (address, zipcode) exists in the addr_to_office_area mapping. If so, record it!\n",
      "\n",
      "#### Computing Total Office Area"
     ]
    },
    {
     "cell_type": "code",
     "collapsed": false,
     "input": [
      "def total_office_area(dof_fr):\n",
      "  \"\"\"\n",
      "  given a department of finance data frame, compute total office area sold over all records.\n",
      "  Do so by looking up (addr, zip) in the PLUTO data set to determine the office size for a given\n",
      "  (addr, zip) .\n",
      "  Input:\n",
      "   * dof_fr (panda.DataFrame) -- sales records evaluate\n",
      "  Output:\n",
      "   * total office area sold (int)\n",
      "  \"\"\"\n",
      "  summer = 0\n",
      "  for (addr, zipcode) in dof_fr[[\"address\",\"zip\"]].values:\n",
      "    if (addr, zipcode) in addr_to_office_area:\n",
      "      summer += addr_to_office_area[(addr,zipcode)]\n",
      "  return summer\n",
      "\n",
      "total_office_area(df_slice)"
     ],
     "language": "python",
     "metadata": {},
     "outputs": [
      {
       "metadata": {},
       "output_type": "pyout",
       "prompt_number": 38,
       "text": [
        "39906211"
       ]
      }
     ],
     "prompt_number": 38
    },
    {
     "cell_type": "markdown",
     "metadata": {},
     "source": [
      "** The above value indicates that the total office area sold in 2014 is 39,906,211. **\n",
      "\n",
      "### What happens if we filter out residential property sales?"
     ]
    },
    {
     "cell_type": "code",
     "collapsed": false,
     "input": [
      "# do same thing but explicitly without residential\n",
      "total_office_area(df_slice[(df_slice.tax_class!=1) & (df_slice.tax_class!=2)])"
     ],
     "language": "python",
     "metadata": {},
     "outputs": [
      {
       "metadata": {},
       "output_type": "pyout",
       "prompt_number": 40,
       "text": [
        "14223504"
       ]
      }
     ],
     "prompt_number": 40
    },
    {
     "cell_type": "markdown",
     "metadata": {},
     "source": [
      "After removing residential property sales, our total office area dropped to 14,223,504. This indicates that there could be residential properties with office space.\n",
      "\n",
      "\n",
      "## Conclusion\n",
      "* Total office area sold in 2014 = 39,906,211\n",
      "* If we remove residential property sales, the above number becomes 14,223,504\n"
     ]
    },
    {
     "cell_type": "code",
     "collapsed": false,
     "input": [],
     "language": "python",
     "metadata": {},
     "outputs": []
    }
   ],
   "metadata": {}
  }
 ]
}